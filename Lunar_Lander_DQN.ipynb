{
 "cells": [
  {
   "cell_type": "markdown",
   "metadata": {
    "id": "_0V73oSwFeZI"
   },
   "source": [
    "Problem: Applying a Deep Reinforcement Learning (RL) methodology to train an agent capable of solving the Lunar Lander problem in OpenAI Gym’s \"LunarLander-v2\" environment. The goal is for the agent to learn to land a lunar module safely between two flags.\n",
    "\n",
    "Overview: This project applies a DQN algorithm to solve the \"LunarLander-v2\" environment. The DQN model approximates Q-values to guide the agent's actions, using experience replay and target network updates. Through training, the agent learns to maximize rewards by controlling the lunar module’s descent and achieving successful landings.\n"
   ]
  },
  {
   "cell_type": "markdown",
   "metadata": {},
   "source": [
    "Step 1: Installing AI Gym, the instructions can be found at OpenAI-Lunar-Lander Links to an external site.\n"
   ]
  },
  {
   "cell_type": "code",
   "execution_count": 1,
   "metadata": {
    "colab": {
     "base_uri": "https://localhost:8080/"
    },
    "id": "h0S8s5Laufo6",
    "outputId": "cf61ffb4-7832-4eb9-f07b-2a1539d1451a"
   },
   "outputs": [
    {
     "name": "stdout",
     "output_type": "stream",
     "text": [
      "Hit:1 https://developer.download.nvidia.com/compute/cuda/repos/ubuntu2204/x86_64  InRelease\n",
      "Get:2 https://cloud.r-project.org/bin/linux/ubuntu jammy-cran40/ InRelease [3,626 B]\n",
      "Get:3 http://security.ubuntu.com/ubuntu jammy-security InRelease [110 kB]\n",
      "Hit:4 http://archive.ubuntu.com/ubuntu jammy InRelease\n",
      "Get:5 http://archive.ubuntu.com/ubuntu jammy-updates InRelease [119 kB]\n",
      "Hit:6 https://ppa.launchpadcontent.net/c2d4u.team/c2d4u4.0+/ubuntu jammy InRelease\n",
      "Get:7 http://security.ubuntu.com/ubuntu jammy-security/universe amd64 Packages [1,083 kB]\n",
      "Hit:8 http://archive.ubuntu.com/ubuntu jammy-backports InRelease\n",
      "Hit:9 https://ppa.launchpadcontent.net/deadsnakes/ppa/ubuntu jammy InRelease\n",
      "Get:10 http://archive.ubuntu.com/ubuntu jammy-updates/main amd64 Packages [2,118 kB]\n",
      "Hit:11 https://ppa.launchpadcontent.net/graphics-drivers/ppa/ubuntu jammy InRelease\n",
      "Hit:12 https://ppa.launchpadcontent.net/ubuntugis/ppa/ubuntu jammy InRelease\n",
      "Get:13 http://security.ubuntu.com/ubuntu jammy-security/main amd64 Packages [1,845 kB]\n",
      "Get:14 http://archive.ubuntu.com/ubuntu jammy-updates/universe amd64 Packages [1,374 kB]\n",
      "Fetched 6,653 kB in 3s (2,242 kB/s)\n",
      "Reading package lists... Done\n",
      "Reading package lists... Done\n",
      "Building dependency tree... Done\n",
      "Reading state information... Done\n",
      "The following additional packages will be installed:\n",
      "  python3-pip-whl python3-setuptools-whl\n",
      "The following NEW packages will be installed:\n",
      "  python3-pip-whl python3-setuptools-whl python3.10-venv\n",
      "0 upgraded, 3 newly installed, 0 to remove and 45 not upgraded.\n",
      "Need to get 2,473 kB of archives.\n",
      "After this operation, 2,884 kB of additional disk space will be used.\n",
      "Get:1 http://archive.ubuntu.com/ubuntu jammy-updates/universe amd64 python3-pip-whl all 22.0.2+dfsg-1ubuntu0.4 [1,680 kB]\n",
      "Get:2 http://archive.ubuntu.com/ubuntu jammy-updates/universe amd64 python3-setuptools-whl all 59.6.0-1.2ubuntu0.22.04.1 [788 kB]\n",
      "Get:3 http://archive.ubuntu.com/ubuntu jammy-updates/universe amd64 python3.10-venv amd64 3.10.12-1~22.04.3 [5,716 B]\n",
      "Fetched 2,473 kB in 2s (1,170 kB/s)\n",
      "debconf: unable to initialize frontend: Dialog\n",
      "debconf: (No usable dialog-like program is installed, so the dialog based frontend cannot be used. at /usr/share/perl5/Debconf/FrontEnd/Dialog.pm line 78, <> line 3.)\n",
      "debconf: falling back to frontend: Readline\n",
      "debconf: unable to initialize frontend: Readline\n",
      "debconf: (This frontend requires a controlling tty.)\n",
      "debconf: falling back to frontend: Teletype\n",
      "dpkg-preconfigure: unable to re-open stdin: \n",
      "Selecting previously unselected package python3-pip-whl.\n",
      "(Reading database ... 121918 files and directories currently installed.)\n",
      "Preparing to unpack .../python3-pip-whl_22.0.2+dfsg-1ubuntu0.4_all.deb ...\n",
      "Unpacking python3-pip-whl (22.0.2+dfsg-1ubuntu0.4) ...\n",
      "Selecting previously unselected package python3-setuptools-whl.\n",
      "Preparing to unpack .../python3-setuptools-whl_59.6.0-1.2ubuntu0.22.04.1_all.deb ...\n",
      "Unpacking python3-setuptools-whl (59.6.0-1.2ubuntu0.22.04.1) ...\n",
      "Selecting previously unselected package python3.10-venv.\n",
      "Preparing to unpack .../python3.10-venv_3.10.12-1~22.04.3_amd64.deb ...\n",
      "Unpacking python3.10-venv (3.10.12-1~22.04.3) ...\n",
      "Setting up python3-setuptools-whl (59.6.0-1.2ubuntu0.22.04.1) ...\n",
      "Setting up python3-pip-whl (22.0.2+dfsg-1ubuntu0.4) ...\n",
      "Setting up python3.10-venv (3.10.12-1~22.04.3) ...\n"
     ]
    }
   ],
   "source": [
    "!sudo apt-get update\n",
    "!sudo apt-get install python3.10-venv\n"
   ]
  },
  {
   "cell_type": "code",
   "execution_count": 2,
   "metadata": {
    "id": "2KbGoYNPunGW"
   },
   "outputs": [],
   "source": [
    "!python3 -m venv env\n",
    "!source env/bin/activate\n"
   ]
  },
  {
   "cell_type": "code",
   "execution_count": 3,
   "metadata": {
    "colab": {
     "base_uri": "https://localhost:8080/"
    },
    "id": "1FD-jlEsunJS",
    "outputId": "b901419a-b9d6-467b-ccd2-9255c6f3e610"
   },
   "outputs": [
    {
     "name": "stdout",
     "output_type": "stream",
     "text": [
      "Reading package lists... Done\n",
      "Building dependency tree... Done\n",
      "Reading state information... Done\n",
      "libpython3.10-dev is already the newest version (3.10.12-1~22.04.3).\n",
      "libpython3.10-dev set to manually installed.\n",
      "Suggested packages:\n",
      "  swig-doc swig-examples swig4.0-examples swig4.0-doc\n",
      "The following NEW packages will be installed:\n",
      "  swig swig4.0\n",
      "0 upgraded, 2 newly installed, 0 to remove and 45 not upgraded.\n",
      "Need to get 1,116 kB of archives.\n",
      "After this operation, 5,542 kB of additional disk space will be used.\n",
      "Get:1 http://archive.ubuntu.com/ubuntu jammy/universe amd64 swig4.0 amd64 4.0.2-1ubuntu1 [1,110 kB]\n",
      "Get:2 http://archive.ubuntu.com/ubuntu jammy/universe amd64 swig all 4.0.2-1ubuntu1 [5,632 B]\n",
      "Fetched 1,116 kB in 2s (494 kB/s)\n",
      "debconf: unable to initialize frontend: Dialog\n",
      "debconf: (No usable dialog-like program is installed, so the dialog based frontend cannot be used. at /usr/share/perl5/Debconf/FrontEnd/Dialog.pm line 78, <> line 2.)\n",
      "debconf: falling back to frontend: Readline\n",
      "debconf: unable to initialize frontend: Readline\n",
      "debconf: (This frontend requires a controlling tty.)\n",
      "debconf: falling back to frontend: Teletype\n",
      "dpkg-preconfigure: unable to re-open stdin: \n",
      "Selecting previously unselected package swig4.0.\n",
      "(Reading database ... 121933 files and directories currently installed.)\n",
      "Preparing to unpack .../swig4.0_4.0.2-1ubuntu1_amd64.deb ...\n",
      "Unpacking swig4.0 (4.0.2-1ubuntu1) ...\n",
      "Selecting previously unselected package swig.\n",
      "Preparing to unpack .../swig_4.0.2-1ubuntu1_all.deb ...\n",
      "Unpacking swig (4.0.2-1ubuntu1) ...\n",
      "Setting up swig4.0 (4.0.2-1ubuntu1) ...\n",
      "Setting up swig (4.0.2-1ubuntu1) ...\n",
      "Processing triggers for man-db (2.10.2-1) ...\n"
     ]
    }
   ],
   "source": [
    "!sudo apt-get install swig libpython3.10-dev\n"
   ]
  },
  {
   "cell_type": "code",
   "execution_count": 4,
   "metadata": {
    "colab": {
     "base_uri": "https://localhost:8080/"
    },
    "id": "2nypix_PunMS",
    "outputId": "09a4e50a-9ed3-486f-cb63-32a3a64acc09"
   },
   "outputs": [
    {
     "name": "stdout",
     "output_type": "stream",
     "text": [
      "Collecting box2d-py\n",
      "  Downloading box2d-py-2.3.8.tar.gz (374 kB)\n",
      "\u001b[?25l     \u001b[90m━━━━━━━━━━━━━━━━━━━━━━━━━━━━━━━━━━━━━━━━\u001b[0m \u001b[32m0.0/374.5 kB\u001b[0m \u001b[31m?\u001b[0m eta \u001b[36m-:--:--\u001b[0m\r",
      "\u001b[2K     \u001b[91m━━━━━━━━━━━━\u001b[0m\u001b[90m╺\u001b[0m\u001b[90m━━━━━━━━━━━━━━━━━━━━━━━━━━━\u001b[0m \u001b[32m112.6/374.5 kB\u001b[0m \u001b[31m3.2 MB/s\u001b[0m eta \u001b[36m0:00:01\u001b[0m\r",
      "\u001b[2K     \u001b[90m━━━━━━━━━━━━━━━━━━━━━━━━━━━━━━━━━━━━━━━━\u001b[0m \u001b[32m374.5/374.5 kB\u001b[0m \u001b[31m5.7 MB/s\u001b[0m eta \u001b[36m0:00:00\u001b[0m\n",
      "\u001b[?25h  Preparing metadata (setup.py) ... \u001b[?25l\u001b[?25hdone\n",
      "Building wheels for collected packages: box2d-py\n",
      "  Building wheel for box2d-py (setup.py) ... \u001b[?25l\u001b[?25hdone\n",
      "  Created wheel for box2d-py: filename=box2d_py-2.3.8-cp310-cp310-linux_x86_64.whl size=2349139 sha256=948fb4ea83773d3087cb3865f0df26a84fa875bfc3e784cb0fc05221adcaae8e\n",
      "  Stored in directory: /root/.cache/pip/wheels/47/01/d2/6a780da77ccb98b1d2facdd520a8d10838a03b590f6f8d50c0\n",
      "Successfully built box2d-py\n",
      "Installing collected packages: box2d-py\n",
      "Successfully installed box2d-py-2.3.8\n"
     ]
    }
   ],
   "source": [
    "!pip install box2d-py\n"
   ]
  },
  {
   "cell_type": "code",
   "execution_count": 5,
   "metadata": {
    "colab": {
     "base_uri": "https://localhost:8080/"
    },
    "id": "tfvkrLEwunPI",
    "outputId": "2d0bf46b-2802-447a-f4af-d9727b119ead"
   },
   "outputs": [
    {
     "name": "stdout",
     "output_type": "stream",
     "text": [
      "Requirement already satisfied: gym[box2d]==0.25.2 in /usr/local/lib/python3.10/dist-packages (0.25.2)\n",
      "Requirement already satisfied: numpy>=1.18.0 in /usr/local/lib/python3.10/dist-packages (from gym[box2d]==0.25.2) (1.25.2)\n",
      "Requirement already satisfied: cloudpickle>=1.2.0 in /usr/local/lib/python3.10/dist-packages (from gym[box2d]==0.25.2) (2.2.1)\n",
      "Requirement already satisfied: gym-notices>=0.0.4 in /usr/local/lib/python3.10/dist-packages (from gym[box2d]==0.25.2) (0.0.8)\n",
      "Collecting box2d-py==2.3.5 (from gym[box2d]==0.25.2)\n",
      "  Downloading box2d-py-2.3.5.tar.gz (374 kB)\n",
      "\u001b[2K     \u001b[90m━━━━━━━━━━━━━━━━━━━━━━━━━━━━━━━━━━━━━━━━\u001b[0m \u001b[32m374.4/374.4 kB\u001b[0m \u001b[31m6.2 MB/s\u001b[0m eta \u001b[36m0:00:00\u001b[0m\n",
      "\u001b[?25h  Preparing metadata (setup.py) ... \u001b[?25l\u001b[?25hdone\n",
      "Collecting pygame==2.1.0 (from gym[box2d]==0.25.2)\n",
      "  Downloading pygame-2.1.0-cp310-cp310-manylinux_2_17_x86_64.manylinux2014_x86_64.whl (18.3 MB)\n",
      "\u001b[2K     \u001b[90m━━━━━━━━━━━━━━━━━━━━━━━━━━━━━━━━━━━━━━━━\u001b[0m \u001b[32m18.3/18.3 MB\u001b[0m \u001b[31m33.9 MB/s\u001b[0m eta \u001b[36m0:00:00\u001b[0m\n",
      "\u001b[?25hCollecting swig==4.* (from gym[box2d]==0.25.2)\n",
      "  Downloading swig-4.2.1-py2.py3-none-manylinux_2_5_x86_64.manylinux1_x86_64.whl (1.9 MB)\n",
      "\u001b[2K     \u001b[90m━━━━━━━━━━━━━━━━━━━━━━━━━━━━━━━━━━━━━━━━\u001b[0m \u001b[32m1.9/1.9 MB\u001b[0m \u001b[31m57.3 MB/s\u001b[0m eta \u001b[36m0:00:00\u001b[0m\n",
      "\u001b[?25hBuilding wheels for collected packages: box2d-py\n",
      "  Building wheel for box2d-py (setup.py) ... \u001b[?25l\u001b[?25hdone\n",
      "  Created wheel for box2d-py: filename=box2d_py-2.3.5-cp310-cp310-linux_x86_64.whl size=2349145 sha256=5a98b83542fcc28825a6e0c668ad950a3ee338ed62f70a6e79a133d31083f458\n",
      "  Stored in directory: /root/.cache/pip/wheels/db/8f/6a/eaaadf056fba10a98d986f6dce954e6201ba3126926fc5ad9e\n",
      "Successfully built box2d-py\n",
      "Installing collected packages: swig, box2d-py, pygame\n",
      "  Attempting uninstall: box2d-py\n",
      "    Found existing installation: box2d-py 2.3.8\n",
      "    Uninstalling box2d-py-2.3.8:\n",
      "      Successfully uninstalled box2d-py-2.3.8\n",
      "  Attempting uninstall: pygame\n",
      "    Found existing installation: pygame 2.5.2\n",
      "    Uninstalling pygame-2.5.2:\n",
      "      Successfully uninstalled pygame-2.5.2\n",
      "Successfully installed box2d-py-2.3.5 pygame-2.1.0 swig-4.2.1\n"
     ]
    }
   ],
   "source": [
    "!pip install gym[box2d]==0.25.2\n"
   ]
  },
  {
   "cell_type": "markdown",
   "metadata": {
    "id": "JNxYk7zNxnbH"
   },
   "source": [
    "Step 2. Setting up the environment"
   ]
  },
  {
   "cell_type": "code",
   "execution_count": 6,
   "metadata": {
    "id": "10VGMZDRFWwL"
   },
   "outputs": [],
   "source": [
    "import copy\n",
    "import os\n",
    "import random\n",
    "\n",
    "import numpy as np\n",
    "import torch\n",
    "from gym import make\n",
    "from torch import nn\n",
    "from torch.optim import Adam\n",
    "from tqdm.notebook import tqdm\n",
    "\n",
    "SEED = 42\n",
    "DEVICE = \"cuda\" if torch.cuda.is_available() else \"cpu\"\n",
    "GAMMA = 0.99\n",
    "TAU = 1e-3\n",
    "INITIAL_STEPS = 1024\n",
    "TRANSITIONS = 500_000\n",
    "STEPS_PER_UPDATE = 4\n",
    "STEPS_PER_TARGET_UPDATE = STEPS_PER_UPDATE * 1000\n",
    "BATCH_SIZE = 128\n",
    "LEARNING_RATE = 5e-4\n",
    "HID_DIM = 64\n",
    "ENV_NAME = \"LunarLander-v2\""
   ]
  },
  {
   "cell_type": "code",
   "execution_count": 7,
   "metadata": {
    "colab": {
     "base_uri": "https://localhost:8080/"
    },
    "id": "Ygja1_t7FWzJ",
    "outputId": "ec313835-fddb-46ea-c3c6-dd71f42675c2"
   },
   "outputs": [
    {
     "name": "stderr",
     "output_type": "stream",
     "text": [
      "/usr/local/lib/python3.10/dist-packages/ipykernel/ipkernel.py:283: DeprecationWarning: `should_run_async` will not call `transform_cell` automatically in the future. Please pass the result to `transformed_cell` argument and any exception that happen during thetransform in `preprocessing_exc_tuple` in IPython 7.17 and above.\n",
      "  and should_run_async(code)\n"
     ]
    }
   ],
   "source": [
    "def set_seed(seed: int = 42) -> None:\n",
    "    os.environ[\"PYTHONHASHSEED\"] = str(seed)\n",
    "    np.random.seed(seed)\n",
    "    random.seed(seed)\n",
    "    torch.backends.cudnn.benchmark = False\n",
    "    torch.backends.cudnn.deterministic = True\n",
    "    torch.manual_seed(seed)\n",
    "    torch.cuda.manual_seed(seed)\n",
    "\n",
    "\n",
    "def evaluate_policy(agent, episodes=5, verbose=False):\n",
    "    env = make(ENV_NAME)\n",
    "    returns = []\n",
    "    if verbose:\n",
    "        pbar = tqdm(total=episodes)\n",
    "    for _ in range(episodes):\n",
    "        done = False\n",
    "        state = env.reset()\n",
    "        total_reward = 0.0\n",
    "\n",
    "        while not done:\n",
    "            state, reward, done, *_ = env.step(agent.act(state))\n",
    "            total_reward += reward\n",
    "        returns.append(total_reward)\n",
    "\n",
    "        if verbose:\n",
    "            pbar.update(1)\n",
    "\n",
    "    return returns"
   ]
  },
  {
   "cell_type": "code",
   "execution_count": 8,
   "metadata": {
    "id": "ek8yizSGG1I_"
   },
   "outputs": [],
   "source": [
    "class ExperienceBuffer:\n",
    "    \"Buffer for DeepQNetwork\"\n",
    "\n",
    "    def __init__(self, capacity=10_000, device=DEVICE):\n",
    "        self.capacity = capacity\n",
    "        self.n_stored = 0\n",
    "        self.next_idx = 0\n",
    "        self.device = device\n",
    "\n",
    "        self.state = None\n",
    "        self.action = None\n",
    "        self.next_state = None\n",
    "        self.reward = None\n",
    "        self.done = None\n",
    "\n",
    "    def is_samplable(self, replay_size):\n",
    "        return replay_size <= self.n_stored\n",
    "\n",
    "    def add(\n",
    "        self,\n",
    "        state: list,\n",
    "        action: int,\n",
    "        next_state: list,\n",
    "        reward: float,\n",
    "        is_done: bool,\n",
    "    ):\n",
    "        state = torch.tensor(state)\n",
    "        next_state = torch.tensor(next_state)\n",
    "\n",
    "        if self.state is None:\n",
    "            self.state = torch.empty(\n",
    "                [self.capacity] + list(state.shape),\n",
    "                dtype=torch.float32,\n",
    "                device=self.device,\n",
    "            )\n",
    "            self.action = torch.empty(\n",
    "                self.capacity, dtype=torch.long, device=self.device\n",
    "            )\n",
    "            self.next_state = torch.empty(\n",
    "                [self.capacity] + list(state.shape),\n",
    "                dtype=torch.float32,\n",
    "                device=self.device,\n",
    "            )\n",
    "            self.reward = torch.empty(\n",
    "                self.capacity, dtype=torch.float32, device=self.device\n",
    "            )\n",
    "            self.done = torch.empty(self.capacity, dtype=torch.long, device=self.device)\n",
    "        self.state[self.next_idx] = state\n",
    "        self.action[self.next_idx] = action\n",
    "        self.next_state[self.next_idx] = next_state\n",
    "        self.reward[self.next_idx] = reward\n",
    "        self.done[self.next_idx] = is_done\n",
    "\n",
    "        self.next_idx = (self.next_idx + 1) % self.capacity\n",
    "        self.n_stored = min(self.capacity, self.n_stored + 1)\n",
    "\n",
    "    def get_batch(self, replay_size=BATCH_SIZE):\n",
    "        idxes = torch.randperm(self.n_stored)[:replay_size]\n",
    "        return (\n",
    "            self.state[idxes],\n",
    "            self.action[idxes].view(-1, 1),\n",
    "            self.next_state[idxes],\n",
    "            self.reward[idxes].view(-1, 1),\n",
    "            self.done[idxes].view(-1, 1),\n",
    "        )"
   ]
  },
  {
   "cell_type": "code",
   "execution_count": 9,
   "metadata": {
    "id": "8Uiif7n9F8J6"
   },
   "outputs": [],
   "source": [
    "class DeepQNetworkModel(torch.nn.Module):\n",
    "    \"Classic DQN\"\n",
    "\n",
    "    def __init__(self, state_dim, action_dim, hid_dim=HID_DIM):\n",
    "        super().__init__()\n",
    "        self.hid_dim = hid_dim\n",
    "        self.activation = torch.nn.ReLU()\n",
    "        self.fc1 = nn.Linear(state_dim, hid_dim)\n",
    "        self.fc2 = nn.Linear(hid_dim, hid_dim)\n",
    "        self.fc3 = nn.Linear(hid_dim, action_dim)\n",
    "\n",
    "    def forward(self, state):\n",
    "        h = self.activation(self.fc1(state))\n",
    "        h = self.activation(self.fc2(h))\n",
    "        out = self.fc3(h)\n",
    "        return out"
   ]
  },
  {
   "cell_type": "code",
   "execution_count": 10,
   "metadata": {
    "id": "zvt6Q1qFF8NJ"
   },
   "outputs": [],
   "source": [
    "class DQN_Agent:\n",
    "    def __init__(self, state_dim, action_dim, hid_dim=64):\n",
    "        self.steps = 0\n",
    "        self.state_dim = state_dim\n",
    "        self.action_dim = action_dim\n",
    "        self.hid_dim = hid_dim\n",
    "        self._buffer = ExperienceBuffer(10**5)\n",
    "        self.local_model = DeepQNetworkModel(state_dim, action_dim, hid_dim).to(DEVICE)\n",
    "        self.target_model = DeepQNetworkModel(state_dim, action_dim, hid_dim).to(DEVICE)\n",
    "        self.target_model.eval()\n",
    "        self.optimizer = Adam(self.local_model.parameters())\n",
    "        self.criterion = nn.MSELoss()\n",
    "\n",
    "    def consume_transition(self, transition):\n",
    "        self._buffer.add(*transition)\n",
    "\n",
    "    def sample_batch(self):\n",
    "        return self._buffer.get_batch()\n",
    "\n",
    "    def train_step(self, batch):\n",
    "        # Use batch to update DQN's network.\n",
    "        states, actions, next_states, rewards, dones = batch\n",
    "\n",
    "        q_pred = self.local_model(states).gather(1, actions)\n",
    "        with torch.no_grad():\n",
    "            q_next = self.target_model(next_states).max(1)[0].unsqueeze(1)\n",
    "        q_target = rewards + GAMMA * q_next * (1 - dones)\n",
    "\n",
    "        self.optimizer.zero_grad()\n",
    "        loss = self.criterion(q_pred, q_target)\n",
    "        loss.backward()\n",
    "        self.optimizer.step()\n",
    "\n",
    "        self._soft_update_target_network()\n",
    "\n",
    "    def _soft_update_target_network(self):\n",
    "        for target_param, local_param in zip(\n",
    "            self.target_model.parameters(), self.local_model.parameters()\n",
    "        ):\n",
    "            target_param.data.copy_(\n",
    "                TAU * local_param.data + (1.0 - TAU) * target_param.data\n",
    "            )\n",
    "\n",
    "    def update_target_network(self):\n",
    "        self.target_model = copy.deepcopy(self.local_model)\n",
    "\n",
    "    def act(self, state, target=False):\n",
    "        state = torch.from_numpy(state).float().unsqueeze(0).to(DEVICE)\n",
    "\n",
    "        self.local_model.eval()\n",
    "        with torch.no_grad():\n",
    "            action = np.argmax(self.local_model(state).cpu().numpy())\n",
    "        self.local_model.train()\n",
    "\n",
    "        return action\n",
    "\n",
    "    def update(self, transition):\n",
    "        self.consume_transition(transition)\n",
    "        if self.steps % STEPS_PER_UPDATE == 0:\n",
    "            batch = self.sample_batch()\n",
    "            self.train_step(batch)\n",
    "        if self.steps % STEPS_PER_TARGET_UPDATE == 0:\n",
    "            self.update_target_network()\n",
    "        self.steps += 1\n",
    "\n",
    "    def save(self):\n",
    "        torch.save(self.local_model.state_dict(), \"agent.pth\")"
   ]
  },
  {
   "cell_type": "markdown",
   "metadata": {
    "id": "yBDcWRe3xxfr"
   },
   "source": [
    "Step 3. Training the model"
   ]
  },
  {
   "cell_type": "code",
   "execution_count": 11,
   "metadata": {
    "colab": {
     "base_uri": "https://localhost:8080/"
    },
    "id": "SZ4_kyizF8Qf",
    "outputId": "90524784-7051-466b-9d55-cb9d2a688b40"
   },
   "outputs": [
    {
     "name": "stderr",
     "output_type": "stream",
     "text": [
      "/usr/local/lib/python3.10/dist-packages/gym/core.py:317: DeprecationWarning: \u001b[33mWARN: Initializing wrapper in old step API which returns one bool instead of two. It is recommended to set `new_step_api=True` to use new step API. This will be the default behaviour in future.\u001b[0m\n",
      "  deprecation(\n",
      "/usr/local/lib/python3.10/dist-packages/gym/wrappers/step_api_compatibility.py:39: DeprecationWarning: \u001b[33mWARN: Initializing environment in old step API which returns one bool instead of two. It is recommended to set `new_step_api=True` to use new step API. This will be the default behaviour in future.\u001b[0m\n",
      "  deprecation(\n",
      "/usr/local/lib/python3.10/dist-packages/gym/utils/passive_env_checker.py:241: DeprecationWarning: `np.bool8` is a deprecated alias for `np.bool_`.  (Deprecated NumPy 1.24)\n",
      "  if not isinstance(terminated, (bool, np.bool8)):\n",
      "/usr/local/lib/python3.10/dist-packages/gym/core.py:317: DeprecationWarning: \u001b[33mWARN: Initializing wrapper in old step API which returns one bool instead of two. It is recommended to set `new_step_api=True` to use new step API. This will be the default behaviour in future.\u001b[0m\n",
      "  deprecation(\n",
      "/usr/local/lib/python3.10/dist-packages/gym/wrappers/step_api_compatibility.py:39: DeprecationWarning: \u001b[33mWARN: Initializing environment in old step API which returns one bool instead of two. It is recommended to set `new_step_api=True` to use new step API. This will be the default behaviour in future.\u001b[0m\n",
      "  deprecation(\n"
     ]
    },
    {
     "name": "stdout",
     "output_type": "stream",
     "text": [
      "Step: 5000/500000, Best reward mean: -inf, Reward mean: -97.10, Reward std: 12.24\n",
      "Step: 10000/500000, Best reward mean: -97.10, Reward mean: -221.78, Reward std: 85.28\n",
      "Step: 15000/500000, Best reward mean: -97.10, Reward mean: -122.09, Reward std: 22.70\n",
      "Step: 20000/500000, Best reward mean: -97.10, Reward mean: -54.35, Reward std: 111.13\n",
      "Step: 25000/500000, Best reward mean: -54.35, Reward mean: -263.92, Reward std: 74.99\n",
      "Step: 30000/500000, Best reward mean: -54.35, Reward mean: -251.72, Reward std: 20.79\n",
      "Step: 35000/500000, Best reward mean: -54.35, Reward mean: -12.44, Reward std: 98.63\n",
      "Step: 40000/500000, Best reward mean: -12.44, Reward mean: -156.08, Reward std: 41.81\n",
      "Step: 45000/500000, Best reward mean: -12.44, Reward mean: -176.78, Reward std: 43.26\n",
      "Step: 50000/500000, Best reward mean: -12.44, Reward mean: 67.96, Reward std: 82.26\n",
      "Step: 55000/500000, Best reward mean: 67.96, Reward mean: -72.92, Reward std: 20.99\n",
      "Step: 60000/500000, Best reward mean: 67.96, Reward mean: -50.89, Reward std: 17.22\n",
      "Step: 65000/500000, Best reward mean: 67.96, Reward mean: -258.82, Reward std: 72.80\n",
      "Step: 70000/500000, Best reward mean: 67.96, Reward mean: -85.41, Reward std: 38.66\n",
      "Step: 75000/500000, Best reward mean: 67.96, Reward mean: -246.89, Reward std: 51.83\n",
      "Step: 80000/500000, Best reward mean: 67.96, Reward mean: -132.05, Reward std: 28.10\n",
      "Step: 85000/500000, Best reward mean: 67.96, Reward mean: -83.79, Reward std: 43.84\n",
      "Step: 90000/500000, Best reward mean: 67.96, Reward mean: -152.61, Reward std: 55.37\n",
      "Step: 95000/500000, Best reward mean: 67.96, Reward mean: -64.89, Reward std: 42.31\n",
      "Step: 100000/500000, Best reward mean: 67.96, Reward mean: -43.04, Reward std: 16.57\n",
      "Step: 105000/500000, Best reward mean: 67.96, Reward mean: -44.55, Reward std: 17.55\n",
      "Step: 110000/500000, Best reward mean: 67.96, Reward mean: -73.15, Reward std: 23.79\n",
      "Step: 115000/500000, Best reward mean: 67.96, Reward mean: -34.66, Reward std: 19.09\n",
      "Step: 120000/500000, Best reward mean: 67.96, Reward mean: -51.73, Reward std: 10.95\n",
      "Step: 125000/500000, Best reward mean: 67.96, Reward mean: -51.53, Reward std: 22.04\n",
      "Step: 130000/500000, Best reward mean: 67.96, Reward mean: -52.76, Reward std: 13.77\n",
      "Step: 135000/500000, Best reward mean: 67.96, Reward mean: -75.94, Reward std: 23.32\n",
      "Step: 140000/500000, Best reward mean: 67.96, Reward mean: -46.34, Reward std: 21.09\n",
      "Step: 145000/500000, Best reward mean: 67.96, Reward mean: -59.74, Reward std: 27.08\n",
      "Step: 150000/500000, Best reward mean: 67.96, Reward mean: -28.37, Reward std: 21.97\n",
      "Step: 155000/500000, Best reward mean: 67.96, Reward mean: -65.86, Reward std: 32.26\n",
      "Step: 160000/500000, Best reward mean: 67.96, Reward mean: -60.94, Reward std: 36.21\n",
      "Step: 165000/500000, Best reward mean: 67.96, Reward mean: -46.74, Reward std: 17.12\n",
      "Step: 170000/500000, Best reward mean: 67.96, Reward mean: -37.27, Reward std: 14.34\n",
      "Step: 175000/500000, Best reward mean: 67.96, Reward mean: -60.72, Reward std: 29.57\n",
      "Step: 180000/500000, Best reward mean: 67.96, Reward mean: -66.55, Reward std: 18.57\n",
      "Step: 185000/500000, Best reward mean: 67.96, Reward mean: -46.19, Reward std: 27.65\n",
      "Step: 190000/500000, Best reward mean: 67.96, Reward mean: -31.29, Reward std: 15.90\n",
      "Step: 195000/500000, Best reward mean: 67.96, Reward mean: -27.20, Reward std: 20.48\n",
      "Step: 200000/500000, Best reward mean: 67.96, Reward mean: -23.20, Reward std: 25.76\n",
      "Step: 205000/500000, Best reward mean: 67.96, Reward mean: -23.03, Reward std: 8.75\n",
      "Step: 210000/500000, Best reward mean: 67.96, Reward mean: -15.73, Reward std: 26.69\n",
      "Step: 215000/500000, Best reward mean: 67.96, Reward mean: -26.11, Reward std: 11.03\n",
      "Step: 220000/500000, Best reward mean: 67.96, Reward mean: -56.41, Reward std: 29.53\n",
      "Step: 225000/500000, Best reward mean: 67.96, Reward mean: -28.66, Reward std: 20.50\n",
      "Step: 230000/500000, Best reward mean: 67.96, Reward mean: 5.19, Reward std: 23.46\n",
      "Step: 235000/500000, Best reward mean: 67.96, Reward mean: 24.25, Reward std: 77.76\n",
      "Step: 240000/500000, Best reward mean: 67.96, Reward mean: -18.86, Reward std: 15.92\n",
      "Step: 245000/500000, Best reward mean: 67.96, Reward mean: 18.25, Reward std: 57.65\n",
      "Step: 250000/500000, Best reward mean: 67.96, Reward mean: 95.21, Reward std: 100.46\n",
      "Step: 255000/500000, Best reward mean: 95.21, Reward mean: 186.20, Reward std: 22.30\n",
      "Step: 260000/500000, Best reward mean: 186.20, Reward mean: 121.57, Reward std: 93.96\n",
      "Step: 265000/500000, Best reward mean: 186.20, Reward mean: 0.23, Reward std: 54.36\n",
      "Step: 270000/500000, Best reward mean: 186.20, Reward mean: 158.58, Reward std: 102.07\n",
      "Step: 275000/500000, Best reward mean: 186.20, Reward mean: 54.78, Reward std: 113.17\n",
      "Step: 280000/500000, Best reward mean: 186.20, Reward mean: 51.31, Reward std: 81.45\n",
      "Step: 285000/500000, Best reward mean: 186.20, Reward mean: -31.08, Reward std: 104.10\n",
      "Step: 290000/500000, Best reward mean: 186.20, Reward mean: 109.55, Reward std: 114.03\n",
      "Step: 295000/500000, Best reward mean: 186.20, Reward mean: -71.85, Reward std: 26.52\n",
      "Step: 300000/500000, Best reward mean: 186.20, Reward mean: -23.38, Reward std: 94.08\n",
      "Step: 305000/500000, Best reward mean: 186.20, Reward mean: 90.80, Reward std: 135.13\n",
      "Step: 310000/500000, Best reward mean: 186.20, Reward mean: 34.22, Reward std: 93.27\n",
      "Step: 315000/500000, Best reward mean: 186.20, Reward mean: 114.11, Reward std: 128.08\n",
      "Step: 320000/500000, Best reward mean: 186.20, Reward mean: 171.66, Reward std: 96.46\n",
      "Step: 325000/500000, Best reward mean: 186.20, Reward mean: 246.23, Reward std: 13.65\n",
      "Step: 330000/500000, Best reward mean: 246.23, Reward mean: 241.15, Reward std: 19.82\n",
      "Step: 335000/500000, Best reward mean: 246.23, Reward mean: 145.99, Reward std: 121.13\n",
      "Step: 340000/500000, Best reward mean: 246.23, Reward mean: 82.03, Reward std: 57.01\n",
      "Step: 345000/500000, Best reward mean: 246.23, Reward mean: 235.35, Reward std: 35.24\n",
      "Step: 350000/500000, Best reward mean: 246.23, Reward mean: 253.62, Reward std: 31.60\n",
      "Step: 355000/500000, Best reward mean: 253.62, Reward mean: -10.75, Reward std: 13.09\n",
      "Step: 360000/500000, Best reward mean: 253.62, Reward mean: 237.75, Reward std: 24.36\n",
      "Step: 365000/500000, Best reward mean: 253.62, Reward mean: 181.05, Reward std: 143.20\n",
      "Step: 370000/500000, Best reward mean: 253.62, Reward mean: 71.80, Reward std: 145.53\n",
      "Step: 375000/500000, Best reward mean: 253.62, Reward mean: 229.32, Reward std: 18.54\n",
      "Step: 380000/500000, Best reward mean: 253.62, Reward mean: 235.33, Reward std: 20.25\n",
      "Step: 385000/500000, Best reward mean: 253.62, Reward mean: 258.58, Reward std: 11.78\n",
      "Step: 390000/500000, Best reward mean: 258.58, Reward mean: 228.11, Reward std: 11.96\n",
      "Step: 395000/500000, Best reward mean: 258.58, Reward mean: 235.59, Reward std: 54.83\n",
      "Step: 400000/500000, Best reward mean: 258.58, Reward mean: 254.43, Reward std: 18.83\n",
      "Step: 405000/500000, Best reward mean: 258.58, Reward mean: 230.23, Reward std: 32.70\n",
      "Step: 410000/500000, Best reward mean: 258.58, Reward mean: 233.88, Reward std: 74.93\n",
      "Step: 415000/500000, Best reward mean: 258.58, Reward mean: 202.13, Reward std: 47.86\n",
      "Step: 420000/500000, Best reward mean: 258.58, Reward mean: 266.23, Reward std: 18.54\n",
      "Step: 425000/500000, Best reward mean: 266.23, Reward mean: 249.51, Reward std: 21.99\n",
      "Step: 430000/500000, Best reward mean: 266.23, Reward mean: 270.15, Reward std: 27.98\n",
      "Step: 435000/500000, Best reward mean: 270.15, Reward mean: 240.51, Reward std: 49.41\n",
      "Step: 440000/500000, Best reward mean: 270.15, Reward mean: 206.06, Reward std: 88.40\n",
      "Step: 445000/500000, Best reward mean: 270.15, Reward mean: 243.76, Reward std: 49.71\n",
      "Step: 450000/500000, Best reward mean: 270.15, Reward mean: 242.39, Reward std: 23.08\n",
      "Step: 455000/500000, Best reward mean: 270.15, Reward mean: 255.45, Reward std: 19.53\n",
      "Step: 460000/500000, Best reward mean: 270.15, Reward mean: 259.55, Reward std: 16.42\n",
      "Step: 465000/500000, Best reward mean: 270.15, Reward mean: 268.27, Reward std: 9.06\n",
      "Step: 470000/500000, Best reward mean: 270.15, Reward mean: 248.55, Reward std: 13.40\n",
      "Step: 475000/500000, Best reward mean: 270.15, Reward mean: 269.91, Reward std: 15.19\n",
      "Step: 480000/500000, Best reward mean: 270.15, Reward mean: 271.12, Reward std: 19.21\n",
      "Step: 485000/500000, Best reward mean: 271.12, Reward mean: 256.52, Reward std: 18.93\n",
      "Step: 490000/500000, Best reward mean: 271.12, Reward mean: 256.50, Reward std: 28.14\n",
      "Step: 495000/500000, Best reward mean: 271.12, Reward mean: 264.48, Reward std: 13.21\n",
      "Step: 500000/500000, Best reward mean: 271.12, Reward mean: 239.10, Reward std: 53.22\n"
     ]
    }
   ],
   "source": [
    "set_seed(SEED)\n",
    "env = make(\"LunarLander-v2\")\n",
    "dqn = DQN_Agent(state_dim=env.observation_space.shape[0], action_dim=env.action_space.n, hid_dim=HID_DIM)\n",
    "eps = 0.1\n",
    "state = env.reset()\n",
    "\n",
    "for _ in range(INITIAL_STEPS):\n",
    "    action = env.action_space.sample()\n",
    "\n",
    "    next_state, reward, done, *_ = env.step(action)\n",
    "    dqn.consume_transition((state, action, next_state, reward, done))\n",
    "\n",
    "    state = next_state if not done else env.reset()\n",
    "\n",
    "best_avg_rewards = -np.inf\n",
    "# pbar = tqdm(total=TRANSITIONS)\n",
    "for i in range(TRANSITIONS):\n",
    "    # Epsilon-greedy policy\n",
    "    if random.random() < eps:\n",
    "        action = env.action_space.sample()\n",
    "    else:\n",
    "        action = dqn.act(state)\n",
    "\n",
    "    next_state, reward, done, *_ = env.step(action)\n",
    "    dqn.update((state, action, next_state, reward, done))\n",
    "\n",
    "    state = next_state if not done else env.reset()\n",
    "\n",
    "#     pbar.update(1)\n",
    "\n",
    "    if (i + 1) % (TRANSITIONS // 100) == 0:\n",
    "        rewards = evaluate_policy(dqn, 5)\n",
    "        avg_reward = np.mean(rewards)\n",
    "#         pbar.set_description(\n",
    "#             f\"Best reward mean: {best_avg_rewards:.2f}, Reward mean: {avg_reward:.2f}, Reward std: {np.std(rewards):.2f}\"\n",
    "#         )\n",
    "        print(f\"Step: {i + 1}/{TRANSITIONS}, Best reward mean: {best_avg_rewards:.2f}, Reward mean: {avg_reward:.2f}, Reward std: {np.std(rewards):.2f}\")\n",
    "        if avg_reward > best_avg_rewards:\n",
    "            best_avg_rewards = avg_reward\n",
    "            dqn.save()"
   ]
  },
  {
   "cell_type": "markdown",
   "metadata": {
    "id": "xkNyzLCbZvUy"
   },
   "source": [
    "Step 4. Playing an episode of the problem using the agent."
   ]
  },
  {
   "cell_type": "code",
   "execution_count": 14,
   "metadata": {
    "id": "9z9k-vtSGJK8"
   },
   "outputs": [],
   "source": [
    "set_seed(SEED)"
   ]
  },
  {
   "cell_type": "code",
   "execution_count": 15,
   "metadata": {
    "id": "3pPxS1SoGPGr"
   },
   "outputs": [],
   "source": [
    "class Agent:\n",
    "    def __init__(self, weights=\"agent.pth\"):\n",
    "        self.model = DeepQNetworkModel(8, 4, 64)\n",
    "        weights = torch.load(weights, map_location=DEVICE)\n",
    "        self.model.load_state_dict(weights)\n",
    "        self.model.to(DEVICE)\n",
    "        self.model.eval()\n",
    "\n",
    "    def act(self, state):\n",
    "        state = torch.from_numpy(state).float().unsqueeze(0).to(DEVICE)\n",
    "        with torch.no_grad():\n",
    "            action = np.argmax(self.model(state).cpu().numpy())\n",
    "        return action"
   ]
  },
  {
   "cell_type": "code",
   "execution_count": 25,
   "metadata": {
    "colab": {
     "base_uri": "https://localhost:8080/",
     "height": 67,
     "referenced_widgets": [
      "3416af322cd04c2dbebc132fc2eb9e25",
      "2c14fc0dc6884d51bddbbb385087a84d",
      "be38e99b862b4c489b5b4f8c24e18a25",
      "f3672417717f490abd921a4d5b8c3d37",
      "5ea1b1f97344402ca4ebdd11c3fcef6d",
      "91d3e161ae3142df8cdece6e5788b0a4",
      "19d9166ca0b5446db5902eb73214b041",
      "1bf994959e0f4b33b38254e2c0d537c3",
      "224c5ba6ea094f1f9fd94fa0c483404d",
      "d885447e8417490594d403a0026767da",
      "f309060af81846ef974fb46ccd77a3c3"
     ]
    },
    "id": "85OQTs2CGPMe",
    "outputId": "d16ac148-0f69-42d3-a575-79160bd260bd"
   },
   "outputs": [
    {
     "data": {
      "application/vnd.jupyter.widget-view+json": {
       "model_id": "3416af322cd04c2dbebc132fc2eb9e25",
       "version_major": 2,
       "version_minor": 0
      },
      "text/plain": [
       "  0%|          | 0/5 [00:00<?, ?it/s]"
      ]
     },
     "metadata": {},
     "output_type": "display_data"
    },
    {
     "name": "stdout",
     "output_type": "stream",
     "text": [
      "Average reward on 5 episodes: 224.8539570615434\n"
     ]
    }
   ],
   "source": [
    "AGENT_WEIGHTS_PATH = \"agent.pth\"\n",
    "agent = Agent(AGENT_WEIGHTS_PATH)\n",
    "rewards = evaluate_policy(agent, 5, True)\n",
    "print(\"Average reward on 5 episodes:\", np.mean(rewards))"
   ]
  },
  {
   "cell_type": "code",
   "execution_count": 26,
   "metadata": {
    "colab": {
     "base_uri": "https://localhost:8080/",
     "height": 640
    },
    "id": "QV84rKwpGPQi",
    "outputId": "4731630f-dc61-4b2d-c7b7-cccbe170d48e"
   },
   "outputs": [
    {
     "name": "stderr",
     "output_type": "stream",
     "text": [
      "/usr/local/lib/python3.10/dist-packages/gym/wrappers/monitoring/video_recorder.py:78: DeprecationWarning: \u001b[33mWARN: Recording ability for environment LunarLander-v2 initialized with `render_mode=None` is marked as deprecated and will be removed in the future.\u001b[0m\n",
      "  logger.deprecation(\n",
      "/usr/local/lib/python3.10/dist-packages/gym/wrappers/monitoring/video_recorder.py:101: DeprecationWarning: \u001b[33mWARN: <class 'gym.wrappers.monitoring.video_recorder.VideoRecorder'> is marked as deprecated and will be removed in the future.\u001b[0m\n",
      "  logger.deprecation(\n",
      "/usr/lib/python3.10/subprocess.py:1796: RuntimeWarning: os.fork() was called. os.fork() is incompatible with multithreaded code, and JAX is multithreaded, so this will likely lead to a deadlock.\n",
      "  self.pid = _posixsubprocess.fork_exec(\n",
      "/usr/local/lib/python3.10/dist-packages/gym/utils/passive_env_checker.py:241: DeprecationWarning: `np.bool8` is a deprecated alias for `np.bool_`.  (Deprecated NumPy 1.24)\n",
      "  if not isinstance(terminated, (bool, np.bool8)):\n",
      "/usr/local/lib/python3.10/dist-packages/gym/core.py:43: DeprecationWarning: \u001b[33mWARN: The argument mode in render method is deprecated; use render_mode during environment initialization instead.\n",
      "See here for more information: https://www.gymlibrary.ml/content/api/\u001b[0m\n",
      "  deprecation(\n"
     ]
    },
    {
     "data": {
      "text/html": [
       "<video alt=\"test\" autoplay\n",
       "                loop controls style=\"height: 400px;\">\n",
       "                <source src=\"data:video/mp4;base64,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\" type=\"video/mp4\" />\n",
       "             </video>"
      ],
      "text/plain": [
       "<IPython.core.display.HTML object>"
      ]
     },
     "metadata": {},
     "output_type": "display_data"
    }
   ],
   "source": [
    "import glob\n",
    "import io\n",
    "import base64\n",
    "from gym.wrappers.monitoring import video_recorder\n",
    "from IPython import display\n",
    "\n",
    "def show_video(env_name, video_dir=\".\"):\n",
    "    mp4list = glob.glob(f'{video_dir}/*.mp4')\n",
    "    if len(mp4list) > 0:\n",
    "        mp4 = f'{video_dir}/{env_name}.mp4'\n",
    "        video = io.open(mp4, 'rb').read()\n",
    "        encoded = base64.b64encode(video)\n",
    "        display.display(display.HTML(data='''<video alt=\"test\" autoplay\n",
    "                loop controls style=\"height: 400px;\">\n",
    "                <source src=\"data:video/mp4;base64,{0}\" type=\"video/mp4\" />\n",
    "             </video>'''.format(encoded.decode('ascii'))))\n",
    "         display.display(FileLink(mp4, result_html_prefix=\"Click here to download: \"))\n",
    "    else:\n",
    "        print(\"Could not find video\")\n",
    "\n",
    "def render_video_of_model(agent, env_name):\n",
    "    env = make(env_name)\n",
    "    vid = video_recorder.VideoRecorder(env, path=f\"{env_name}.mp4\")\n",
    "    state = env.reset()\n",
    "    done = False\n",
    "    while not done:\n",
    "        frame = env.render(mode='rgb_array')\n",
    "        vid.capture_frame()\n",
    "\n",
    "        action = agent.act(state)\n",
    "\n",
    "        state, reward, done, _ = env.step(action)\n",
    "    env.close()\n",
    "\n",
    "\n",
    "render_video_of_model(agent, ENV_NAME)\n",
    "show_video(ENV_NAME)\n",
    "#show_video(ENV_NAME, video_dir=\"rl-agents\")"
   ]
  },
  {
   "cell_type": "markdown",
   "metadata": {
    "id": "4iqdZ_pIZvVr"
   },
   "source": [
    "Step 6. Discussions\n",
    "\n",
    "1. The agent was evaluated over 5 episodes to measure its performance consistency.\n",
    "2. The agent achieved an average reward of approximately 224.85 across 5 episodes.\n",
    "3. The success threshold for a successful landing is set at 200 points in \"LunarLander-v2\". The agent exceeded this threshold in all episodes.\n",
    "4. Success Rate: 100%, as all tested episodes resulted in rewards above the success threshold.\n",
    "5. The consistently high rewards suggest that the agent has effectively learned a successful strategy for the Lunar Lander task."
   ]
  },
  {
   "cell_type": "code",
   "execution_count": null,
   "metadata": {},
   "outputs": [],
   "source": []
  }
 ],
 "metadata": {
  "accelerator": "GPU",
  "colab": {
   "gpuType": "T4",
   "machine_shape": "hm",
   "provenance": []
  },
  "kernelspec": {
   "display_name": "Python 3 (ipykernel)",
   "language": "python",
   "name": "python3"
  },
  "language_info": {
   "codemirror_mode": {
    "name": "ipython",
    "version": 3
   },
   "file_extension": ".py",
   "mimetype": "text/x-python",
   "name": "python",
   "nbconvert_exporter": "python",
   "pygments_lexer": "ipython3",
   "version": "3.9.16"
  },
  "widgets": {
   "application/vnd.jupyter.widget-state+json": {
    "19d9166ca0b5446db5902eb73214b041": {
     "model_module": "@jupyter-widgets/controls",
     "model_module_version": "1.5.0",
     "model_name": "DescriptionStyleModel",
     "state": {
      "_model_module": "@jupyter-widgets/controls",
      "_model_module_version": "1.5.0",
      "_model_name": "DescriptionStyleModel",
      "_view_count": null,
      "_view_module": "@jupyter-widgets/base",
      "_view_module_version": "1.2.0",
      "_view_name": "StyleView",
      "description_width": ""
     }
    },
    "1bf994959e0f4b33b38254e2c0d537c3": {
     "model_module": "@jupyter-widgets/base",
     "model_module_version": "1.2.0",
     "model_name": "LayoutModel",
     "state": {
      "_model_module": "@jupyter-widgets/base",
      "_model_module_version": "1.2.0",
      "_model_name": "LayoutModel",
      "_view_count": null,
      "_view_module": "@jupyter-widgets/base",
      "_view_module_version": "1.2.0",
      "_view_name": "LayoutView",
      "align_content": null,
      "align_items": null,
      "align_self": null,
      "border": null,
      "bottom": null,
      "display": null,
      "flex": null,
      "flex_flow": null,
      "grid_area": null,
      "grid_auto_columns": null,
      "grid_auto_flow": null,
      "grid_auto_rows": null,
      "grid_column": null,
      "grid_gap": null,
      "grid_row": null,
      "grid_template_areas": null,
      "grid_template_columns": null,
      "grid_template_rows": null,
      "height": null,
      "justify_content": null,
      "justify_items": null,
      "left": null,
      "margin": null,
      "max_height": null,
      "max_width": null,
      "min_height": null,
      "min_width": null,
      "object_fit": null,
      "object_position": null,
      "order": null,
      "overflow": null,
      "overflow_x": null,
      "overflow_y": null,
      "padding": null,
      "right": null,
      "top": null,
      "visibility": null,
      "width": null
     }
    },
    "224c5ba6ea094f1f9fd94fa0c483404d": {
     "model_module": "@jupyter-widgets/controls",
     "model_module_version": "1.5.0",
     "model_name": "ProgressStyleModel",
     "state": {
      "_model_module": "@jupyter-widgets/controls",
      "_model_module_version": "1.5.0",
      "_model_name": "ProgressStyleModel",
      "_view_count": null,
      "_view_module": "@jupyter-widgets/base",
      "_view_module_version": "1.2.0",
      "_view_name": "StyleView",
      "bar_color": null,
      "description_width": ""
     }
    },
    "2c14fc0dc6884d51bddbbb385087a84d": {
     "model_module": "@jupyter-widgets/controls",
     "model_module_version": "1.5.0",
     "model_name": "HTMLModel",
     "state": {
      "_dom_classes": [],
      "_model_module": "@jupyter-widgets/controls",
      "_model_module_version": "1.5.0",
      "_model_name": "HTMLModel",
      "_view_count": null,
      "_view_module": "@jupyter-widgets/controls",
      "_view_module_version": "1.5.0",
      "_view_name": "HTMLView",
      "description": "",
      "description_tooltip": null,
      "layout": "IPY_MODEL_91d3e161ae3142df8cdece6e5788b0a4",
      "placeholder": "​",
      "style": "IPY_MODEL_19d9166ca0b5446db5902eb73214b041",
      "value": "100%"
     }
    },
    "3416af322cd04c2dbebc132fc2eb9e25": {
     "model_module": "@jupyter-widgets/controls",
     "model_module_version": "1.5.0",
     "model_name": "HBoxModel",
     "state": {
      "_dom_classes": [],
      "_model_module": "@jupyter-widgets/controls",
      "_model_module_version": "1.5.0",
      "_model_name": "HBoxModel",
      "_view_count": null,
      "_view_module": "@jupyter-widgets/controls",
      "_view_module_version": "1.5.0",
      "_view_name": "HBoxView",
      "box_style": "",
      "children": [
       "IPY_MODEL_2c14fc0dc6884d51bddbbb385087a84d",
       "IPY_MODEL_be38e99b862b4c489b5b4f8c24e18a25",
       "IPY_MODEL_f3672417717f490abd921a4d5b8c3d37"
      ],
      "layout": "IPY_MODEL_5ea1b1f97344402ca4ebdd11c3fcef6d"
     }
    },
    "5ea1b1f97344402ca4ebdd11c3fcef6d": {
     "model_module": "@jupyter-widgets/base",
     "model_module_version": "1.2.0",
     "model_name": "LayoutModel",
     "state": {
      "_model_module": "@jupyter-widgets/base",
      "_model_module_version": "1.2.0",
      "_model_name": "LayoutModel",
      "_view_count": null,
      "_view_module": "@jupyter-widgets/base",
      "_view_module_version": "1.2.0",
      "_view_name": "LayoutView",
      "align_content": null,
      "align_items": null,
      "align_self": null,
      "border": null,
      "bottom": null,
      "display": null,
      "flex": null,
      "flex_flow": null,
      "grid_area": null,
      "grid_auto_columns": null,
      "grid_auto_flow": null,
      "grid_auto_rows": null,
      "grid_column": null,
      "grid_gap": null,
      "grid_row": null,
      "grid_template_areas": null,
      "grid_template_columns": null,
      "grid_template_rows": null,
      "height": null,
      "justify_content": null,
      "justify_items": null,
      "left": null,
      "margin": null,
      "max_height": null,
      "max_width": null,
      "min_height": null,
      "min_width": null,
      "object_fit": null,
      "object_position": null,
      "order": null,
      "overflow": null,
      "overflow_x": null,
      "overflow_y": null,
      "padding": null,
      "right": null,
      "top": null,
      "visibility": null,
      "width": null
     }
    },
    "91d3e161ae3142df8cdece6e5788b0a4": {
     "model_module": "@jupyter-widgets/base",
     "model_module_version": "1.2.0",
     "model_name": "LayoutModel",
     "state": {
      "_model_module": "@jupyter-widgets/base",
      "_model_module_version": "1.2.0",
      "_model_name": "LayoutModel",
      "_view_count": null,
      "_view_module": "@jupyter-widgets/base",
      "_view_module_version": "1.2.0",
      "_view_name": "LayoutView",
      "align_content": null,
      "align_items": null,
      "align_self": null,
      "border": null,
      "bottom": null,
      "display": null,
      "flex": null,
      "flex_flow": null,
      "grid_area": null,
      "grid_auto_columns": null,
      "grid_auto_flow": null,
      "grid_auto_rows": null,
      "grid_column": null,
      "grid_gap": null,
      "grid_row": null,
      "grid_template_areas": null,
      "grid_template_columns": null,
      "grid_template_rows": null,
      "height": null,
      "justify_content": null,
      "justify_items": null,
      "left": null,
      "margin": null,
      "max_height": null,
      "max_width": null,
      "min_height": null,
      "min_width": null,
      "object_fit": null,
      "object_position": null,
      "order": null,
      "overflow": null,
      "overflow_x": null,
      "overflow_y": null,
      "padding": null,
      "right": null,
      "top": null,
      "visibility": null,
      "width": null
     }
    },
    "be38e99b862b4c489b5b4f8c24e18a25": {
     "model_module": "@jupyter-widgets/controls",
     "model_module_version": "1.5.0",
     "model_name": "FloatProgressModel",
     "state": {
      "_dom_classes": [],
      "_model_module": "@jupyter-widgets/controls",
      "_model_module_version": "1.5.0",
      "_model_name": "FloatProgressModel",
      "_view_count": null,
      "_view_module": "@jupyter-widgets/controls",
      "_view_module_version": "1.5.0",
      "_view_name": "ProgressView",
      "bar_style": "success",
      "description": "",
      "description_tooltip": null,
      "layout": "IPY_MODEL_1bf994959e0f4b33b38254e2c0d537c3",
      "max": 5,
      "min": 0,
      "orientation": "horizontal",
      "style": "IPY_MODEL_224c5ba6ea094f1f9fd94fa0c483404d",
      "value": 5
     }
    },
    "d885447e8417490594d403a0026767da": {
     "model_module": "@jupyter-widgets/base",
     "model_module_version": "1.2.0",
     "model_name": "LayoutModel",
     "state": {
      "_model_module": "@jupyter-widgets/base",
      "_model_module_version": "1.2.0",
      "_model_name": "LayoutModel",
      "_view_count": null,
      "_view_module": "@jupyter-widgets/base",
      "_view_module_version": "1.2.0",
      "_view_name": "LayoutView",
      "align_content": null,
      "align_items": null,
      "align_self": null,
      "border": null,
      "bottom": null,
      "display": null,
      "flex": null,
      "flex_flow": null,
      "grid_area": null,
      "grid_auto_columns": null,
      "grid_auto_flow": null,
      "grid_auto_rows": null,
      "grid_column": null,
      "grid_gap": null,
      "grid_row": null,
      "grid_template_areas": null,
      "grid_template_columns": null,
      "grid_template_rows": null,
      "height": null,
      "justify_content": null,
      "justify_items": null,
      "left": null,
      "margin": null,
      "max_height": null,
      "max_width": null,
      "min_height": null,
      "min_width": null,
      "object_fit": null,
      "object_position": null,
      "order": null,
      "overflow": null,
      "overflow_x": null,
      "overflow_y": null,
      "padding": null,
      "right": null,
      "top": null,
      "visibility": null,
      "width": null
     }
    },
    "f309060af81846ef974fb46ccd77a3c3": {
     "model_module": "@jupyter-widgets/controls",
     "model_module_version": "1.5.0",
     "model_name": "DescriptionStyleModel",
     "state": {
      "_model_module": "@jupyter-widgets/controls",
      "_model_module_version": "1.5.0",
      "_model_name": "DescriptionStyleModel",
      "_view_count": null,
      "_view_module": "@jupyter-widgets/base",
      "_view_module_version": "1.2.0",
      "_view_name": "StyleView",
      "description_width": ""
     }
    },
    "f3672417717f490abd921a4d5b8c3d37": {
     "model_module": "@jupyter-widgets/controls",
     "model_module_version": "1.5.0",
     "model_name": "HTMLModel",
     "state": {
      "_dom_classes": [],
      "_model_module": "@jupyter-widgets/controls",
      "_model_module_version": "1.5.0",
      "_model_name": "HTMLModel",
      "_view_count": null,
      "_view_module": "@jupyter-widgets/controls",
      "_view_module_version": "1.5.0",
      "_view_name": "HTMLView",
      "description": "",
      "description_tooltip": null,
      "layout": "IPY_MODEL_d885447e8417490594d403a0026767da",
      "placeholder": "​",
      "style": "IPY_MODEL_f309060af81846ef974fb46ccd77a3c3",
      "value": " 5/5 [00:04&lt;00:00,  7.86it/s]"
     }
    }
   }
  }
 },
 "nbformat": 4,
 "nbformat_minor": 1
}
